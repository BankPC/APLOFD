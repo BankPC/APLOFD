{
  "nbformat": 4,
  "nbformat_minor": 0,
  "metadata": {
    "colab": {
      "name": "Cleaned.ipynb",
      "provenance": [],
      "collapsed_sections": [
        "PiufEZh9Rpmp",
        "6dm6gp5PR4Pr",
        "AL9-duZ4XvaB",
        "ywEY03V3X-EP",
        "GC09tFuIYMsl",
        "oLI9gTHeYbWK",
        "vr15YZTQYp_w",
        "ES3UStPlY4pf",
        "F6W1oPHoZHSy",
        "qG7Jxh9NZV8f",
        "vL7ErzidZkls",
        "_B_EuewPZzPJ",
        "zgWKumWqaB4n",
        "nvNLqWQ4aQiL",
        "_CGSP6-pafLv",
        "DYekyQpaat1K",
        "mRFSoncoa8ex",
        "QE1F0WYObLIW",
        "Y7elnxl-bZxy",
        "EW9H3QlNbobW",
        "Vbu3MNjNb3Ex",
        "q0WG_w53cFur",
        "-9EWVCGccUX8",
        "qcALpObRcjBV",
        "C50KsugIcxq8",
        "DRli2E4FdAUd",
        "CtJagpb2dO94",
        "hwZe2XYkddnk",
        "tQmw0MMUdsRR",
        "80mjCHurd66F",
        "8R3A1f5GeJjk",
        "TtN3HNtdeYNh",
        "hrpTiEEfem28",
        "nnEfaEPhe1gQ",
        "amAwq8uLfEJt",
        "4rNyXz1LfSzS",
        "P6PUkyzyfhdF",
        "t5UlVrDCfwGT",
        "sNRCil69f-vr",
        "4_l_6dmTgNZa",
        "T6je4UicgcCs",
        "podAzRBGgqsK",
        "-435IxeSg5Vn",
        "BpARBz_ghH_e",
        "dQFvGBV4hWpG",
        "wk0wR9txhlSe",
        "uOTVqyPNhz7u",
        "y8Yr0LXNiClK",
        "yN-SNpR7iROy",
        "AtssRV17if4P",
        "JUHTMISJiuhq",
        "MRqWOlMEi9LS",
        "EXZxgentjL0z",
        "y3ZiOwKVjaeX",
        "BlfGn_Z9jpHm",
        "qwJJ1n_lj3xP",
        "ikkY39qpkGaw",
        "8cG7aJDYkVEg",
        "2JGCqWKskjts",
        "crZdLue0kyXU",
        "mMmpnvQUlBAu",
        "bDgGT3ItlPqG",
        "1lV7DQtXleTx",
        "Rx57Fackls9r",
        "ocsoiHWvl7mv",
        "xB5VE-CrmKQc",
        "UzUpTTQcmY5r",
        "LmcQ3LCumnjR",
        "uE5sRqVCm2M2",
        "MeAjsjTQnE2P",
        "0aIQY7tunTfv",
        "-2452JrjniJM",
        "kW6YoTeAnwyq",
        "FKCth0Vun_cb",
        "92H1KRLqoOFs",
        "K95TdG5LocvQ",
        "YdZzXIakorZB",
        "TdJY81gJo6CV",
        "E3-BZJdYpIrq",
        "fS8BNKavpXVG",
        "sRP-7O9kpl-t",
        "WfrX2Fafp0oL",
        "_J8jkc0HqDRv",
        "T0P0rQ4fqR7d",
        "yUsD2tEDqgku",
        "EwsecxZeqvOZ",
        "fDqv9j0Yq94N",
        "qxtiB7glrMhN",
        "sz7PZPmErbKw",
        "qC47Fydwrp0M",
        "1CQqdB4Rr4dq",
        "rRRz4ZzksHHb",
        "_J1OdOHusVxI",
        "5Kom-2NqskaM",
        "TcvUwaQGszDv",
        "YdJTF1X-tBtN",
        "eXD4Sd6wtQWr",
        "3CbOAH_vtfAT",
        "kMD8C0zYttpt",
        "YiPvSkH1t8TL",
        "aV48EVepuK8w",
        "xzHX9YkNuZmi",
        "bZ6D77bLuoPk",
        "LN2bPKW2u25N",
        "ltayZJdzvFi1",
        "xuALEFL_vUMN",
        "oHfyfdP8vi1s",
        "o8rOBbDlvxfK",
        "HTX0W5m9wAIu",
        "4KX3X4NzwOyN",
        "wX6yx601wdb7",
        "L9WTZh6twsFU",
        "QaadzQDUw6uu",
        "VjyUj8obxJYd",
        "-ZC19TLpxYB3",
        "XeAT1CGMxmrl",
        "WVu1Zr4Xx1Us",
        "7WarEeEbyD-N",
        "MCKT2lPfySnw",
        "_Cr2SU3TyhRN",
        "v0uXSgUSyv64",
        "oDLo5aGKy-kV",
        "lDSyy42jzNNq",
        "ur-XPGC6zb3a",
        "aG-jRW2dzqgw",
        "Qd2FaDwez5Kc",
        "beLJ-y4M0Hzv",
        "lDzpl-V60Wdf",
        "-YgaOuFR0lGx",
        "UUvV23Ey0zwb",
        "MXOim00v1CZ-",
        "cTb4JKQ_1RDV",
        "3ndGCotH1fs4",
        "imJ0BVRw1uWP",
        "1x3eohHK18_q",
        "41L3Z8m42Lph",
        "BG2XozfP2aSp",
        "gwNiejhq2o8e",
        "LjdEAvng23lw",
        "Ka9fEnHs3GPP",
        "dgiz4ATy3U4v",
        "brZu12Rn3jjU",
        "A6Q7QasM3yLw",
        "SMqnS8k04A1K",
        "1KPNs1K44Peq",
        "3x-QBjZw4eIU",
        "G7pYESLe4sxy",
        "8GaYgKaH47bM",
        "aeBZ4jh25KEq",
        "YVmRCzAc5YuL",
        "ILYx6ySf5nXq",
        "WYrjjsgU52BJ",
        "UBBviOEM6Eqz",
        "EDNjHGNZ6TUO",
        "A5xgLNOC6h9t",
        "V5Y4wtwB6wnN",
        "U-TqEL_Y6_Qs",
        "QzSq_Wr27N6U",
        "DVL_dpd57cju",
        "hDTyBylE7rNl",
        "VUUlfjbG753I",
        "kwM1epDI8Igq",
        "jkqVeR6a8XJq",
        "gKJjCOsn8lzQ",
        "L-rlktYU80cs",
        "WOHCyQBR9DGf",
        "k9ByqC8L9Rvw",
        "GTWI9yqe9gZh",
        "1um-G4Tm9vC-",
        "Xh9446av99sO",
        "Y26LgGg2-MV5",
        "yCUDjptS-a_d",
        "FRnKV6Kj-pos",
        "5iurqQpx-4Se",
        "Fu5G0AfF_G7v",
        "1WkWVqjR_VlO",
        "entHl8qM_kPF",
        "8LqesHjY_y4R",
        "eWqhu7nOABhv",
        "pT-izobRAQLM",
        "-RsfLCPaAe02",
        "VKvJ4MIZAteS",
        "iG4fFyqmA8Hx",
        "RdcDhIy3BKxU",
        "5y4o6NJ5BZaq",
        "ozvokRjYBoEK",
        "BMasXAx1B2t4",
        "22AZc8_3CFXV",
        "yEKHE8UkCUA1",
        "kw-oWoMlCiqR",
        "FYCmbL6JCxUE",
        "_7WdkrWyC_9h",
        "XMoAoyudDOmq",
        "QVe4WWCADdQe",
        "dCms6xTvDr5y",
        "RyIYGRFFD6jr",
        "sq-PGSHGEJMu",
        "_I3_3WSPEX2K",
        "cn0Nip06Emf5",
        "1ckv3ngVE1Jj",
        "TUTiWDZVFD0N",
        "KQ34YVU3FScR",
        "8-Gxsw60FhGC",
        "HeVtWZx1Fvvn",
        "hN87N0hGF-Y_",
        "rGwypq2CGNCb",
        "7FWtFH3NGbrx",
        "pCeXoG8lGqVK",
        "wMb_uaVvG4-x",
        "3khv851pHHoh",
        "KdQxG2I4HWRs",
        "K4zD1fsOHk7l",
        "PQNn14vDHzkq",
        "zbqTV4iXICOZ",
        "CZmpOg0kIQ3w",
        "8EreNUbWIfhR",
        "GOYgv5INIuKx",
        "k6eiY05TI80M",
        "MtZW6uhHJLd7",
        "XmFIXpOaJaHK",
        "UVhcLQ5SJowq",
        "OeDIPqWWJ3aU",
        "FESPr0uHKGEP",
        "TgPTb_0GKUtg",
        "4-SnrujaKjW-",
        "WLEu0lkJKyAm",
        "3gqIlA7YLApq",
        "-C_Qn8RTLPTG",
        "ZKPbySlGLd8t",
        "XhVrjW1WLsmV",
        "SnP5jOQXL7P8",
        "iLUihEekMJ5P",
        "kioVSsdVMYiq",
        "lbkYHaADMnMd",
        "7CI7naCCM11q",
        "rF64s38ENEfE",
        "hAWQAF8NNTIx",
        "tnAmRlZ7NhyO",
        "CB45S-ZVNwcI",
        "AmGzhhvSN_FK",
        "2bJlSHnTONuq",
        "Lwjxly3QOcYM",
        "FDbavwaxOrBq",
        "hpDQTdRXO5rR",
        "4bKn9lEyPIUu",
        "9MsmBvNLPW-l",
        "5fwP_kPfPlnq",
        "POwnt0zSP0RK",
        "F_ChF3DCQC6r",
        "JmOM0YdCQRkJ",
        "6ToRjy4gQgN0",
        "49utTKKSQu3Q",
        "A8-7WdD-tKyg",
        "PYRlSFXKtZb_"
      ],
      "toc_visible": true,
      "include_colab_link": true
    },
    "kernelspec": {
      "name": "python3",
      "display_name": "Python 3"
    },
    "accelerator": "GPU"
  },
  "cells": [
    {
      "cell_type": "markdown",
      "metadata": {
        "id": "view-in-github",
        "colab_type": "text"
      },
      "source": [
        "<a href=\"https://colab.research.google.com/github/BankPC/APLOFD/blob/master/Cleaned.ipynb\" target=\"_parent\"><img src=\"https://colab.research.google.com/assets/colab-badge.svg\" alt=\"Open In Colab\"/></a>"
      ]
    },
    {
      "cell_type": "markdown",
      "metadata": {
        "id": "Tr3PFK3Ikh1d",
        "colab_type": "text"
      },
      "source": [
        "Test"
      ]
    },
    {
      "cell_type": "code",
      "metadata": {
        "id": "yHaHFn63E2dK",
        "colab_type": "code",
        "colab": {}
      },
      "source": [
        "from google.colab import drive\n",
        "drive.mount('/content/drive')"
      ],
      "execution_count": 0,
      "outputs": []
    },
    {
      "cell_type": "code",
      "metadata": {
        "id": "wNSZwLR1sTmi",
        "colab_type": "code",
        "colab": {}
      },
      "source": [
        "!pip install tensorflow-gpu==1.15.0 --force-reinstall"
      ],
      "execution_count": 0,
      "outputs": []
    },
    {
      "cell_type": "code",
      "metadata": {
        "id": "hXTImaO2mEB7",
        "colab_type": "code",
        "colab": {}
      },
      "source": [
        "%cd /content/drive/My Drive/gei-project"
      ],
      "execution_count": 0,
      "outputs": []
    },
    {
      "cell_type": "code",
      "metadata": {
        "id": "7GcnB31hn8Wf",
        "colab_type": "code",
        "colab": {}
      },
      "source": [
        "!git clone https://github.com/tensorflow/models.git\n",
        "!git clone https://github.com/cocodataset/cocoapi.git\n",
        "!cd cocoapi/PythonAPI; make; cp -r pycocotools '/content/drive/My Drive/gei-project/models/research'"
      ],
      "execution_count": 0,
      "outputs": []
    },
    {
      "cell_type": "code",
      "metadata": {
        "id": "qqdLZO2BmZdR",
        "colab_type": "code",
        "colab": {}
      },
      "source": [
        "!apt-get install protobuf-compiler python-pil python-lxml python-tk\n",
        "!pip install Cython"
      ],
      "execution_count": 0,
      "outputs": []
    },
    {
      "cell_type": "code",
      "metadata": {
        "id": "bIDflPdIqBBb",
        "colab_type": "code",
        "colab": {}
      },
      "source": [
        "%cd /content/drive/My Drive/gei-project/models/research/\n",
        "!protoc object_detection/protos/*.proto --python_out=."
      ],
      "execution_count": 0,
      "outputs": []
    },
    {
      "cell_type": "code",
      "metadata": {
        "id": "_0PYSTCSrIMX",
        "colab_type": "code",
        "colab": {}
      },
      "source": [
        "import os\n",
        "os.environ['PYTHONPATH'] += ':/content/drive/My Drive/gei-project/models/research/:/content/drive/My Drive/gei-project/models/research/slim'"
      ],
      "execution_count": 0,
      "outputs": []
    },
    {
      "cell_type": "code",
      "metadata": {
        "id": "g2gtuynsoQ24",
        "colab_type": "code",
        "colab": {}
      },
      "source": [
        "\n",
        "!python setup.py build\n",
        "!python setup.py install"
      ],
      "execution_count": 0,
      "outputs": []
    },
    {
      "cell_type": "code",
      "metadata": {
        "id": "h3VtyhVQpEAG",
        "colab_type": "code",
        "colab": {}
      },
      "source": [
        "!python object_detection/builders/model_builder_test.py"
      ],
      "execution_count": 0,
      "outputs": []
    },
    {
      "cell_type": "code",
      "metadata": {
        "id": "rNxUuEaAsdok",
        "colab_type": "code",
        "colab": {}
      },
      "source": [
        "%cd '/content/drive/My Drive/gei-project'\n",
        "!wget http://download.tensorflow.org/models/object_detection/faster_rcnn_resnet101_coco_2018_01_28.tar.gz\n",
        "!tar -xzvf '/content/drive/My Drive/gei-project/faster_rcnn_resnet101_coco_2018_01_28.tar.gz'"
      ],
      "execution_count": 0,
      "outputs": []
    },
    {
      "cell_type": "markdown",
      "metadata": {
        "id": "GdPPoV6civad",
        "colab_type": "text"
      },
      "source": [
        "# Train\n"
      ]
    },
    {
      "cell_type": "code",
      "metadata": {
        "id": "68L2usLtVmyd",
        "colab_type": "code",
        "colab": {}
      },
      "source": [
        "%cd '/content/drive/My Drive/gei-project/models/research/object_detection/legacy'\n",
        "!python train.py --logtostderr --train_dir='/content/drive/My Drive/gei-project/training' --pipeline_config_path='/content/drive/My Drive/gei-project/training/model.config'"
      ],
      "execution_count": 0,
      "outputs": []
    },
    {
      "cell_type": "markdown",
      "metadata": {
        "id": "61vM2wmWY5_j",
        "colab_type": "text"
      },
      "source": [
        "# Export Checkpoint \n"
      ]
    },
    {
      "cell_type": "code",
      "metadata": {
        "id": "iYOHclf_TBUT",
        "colab_type": "code",
        "colab": {}
      },
      "source": [
        "%cd '/content/drive/My Drive/gei-project/models/research/object_detection/'\n",
        "!python export_inference_graph.py \\\n",
        "    --input_type image_tensor \\\n",
        "    --pipeline_config_path '/content/drive/My Drive/gei-project/training/model.config' \\\n",
        "    --trained_checkpoint_prefix '/content/drive/My Drive/gei-project/training/model.ckpt-35180' \\\n",
        "    --output_directory '/content/drive/My Drive/gei-project/Penguin-Logistics_ckpt'"
      ],
      "execution_count": 0,
      "outputs": []
    },
    {
      "cell_type": "code",
      "metadata": {
        "id": "3RrkI_zeT7V1",
        "colab_type": "code",
        "colab": {}
      },
      "source": [
        "!zip -r '/content/drive/My Drive/gei-project/Penguin-Logistics_ckpt.zip' '/content/drive/My Drive/gei-project/Penguin-Logistics_ckpt'"
      ],
      "execution_count": 0,
      "outputs": []
    },
    {
      "cell_type": "markdown",
      "metadata": {
        "id": "kbPhPBJxXgwX",
        "colab_type": "text"
      },
      "source": [
        "# Test"
      ]
    },
    {
      "cell_type": "markdown",
      "metadata": {
        "id": "asM5uVPHFgAB",
        "colab_type": "text"
      },
      "source": [
        "Imports"
      ]
    },
    {
      "cell_type": "code",
      "metadata": {
        "id": "xasggD3iGMbt",
        "colab_type": "code",
        "colab": {}
      },
      "source": [
        "PATH_TO_FOLDER = '/content/drive/My Drive/gei-project'"
      ],
      "execution_count": 0,
      "outputs": []
    },
    {
      "cell_type": "code",
      "metadata": {
        "id": "ZNQs3w5ZFecK",
        "colab_type": "code",
        "colab": {}
      },
      "source": [
        "import os\n",
        "import cv2\n",
        "import numpy as np\n",
        "import tensorflow as tf\n",
        "import sys\n",
        "%matplotlib inline\n",
        "%matplotlib notebook\n",
        "sys.path.append(PATH_TO_FOLDER)\n",
        "sys.path.append(os.path.join(PATH_TO_FOLDER,\"models/research\"))\n",
        "sys.path.append(os.path.join(PATH_TO_FOLDER,\"models/research/object_detection/utils\"))\n",
        "\n",
        "import sys\n",
        "sys.path.append(os.path.join(PATH_TO_FOLDER))\n",
        "PATH_TO_CKPT = os.path.join(PATH_TO_FOLDER,'Penguin-Logistics_ckpt/frozen_inference_graph.pb')\n",
        "PATH_TO_LABELS = os.path.join(PATH_TO_FOLDER,'training/label_map.pbtxt')\n",
        "from utils import label_map_util\n",
        "import visualization_utils as vis_util\n",
        "from google.colab.patches import cv2_imshow"
      ],
      "execution_count": 0,
      "outputs": []
    },
    {
      "cell_type": "markdown",
      "metadata": {
        "id": "PiufEZh9Rpmp",
        "colab_type": "text"
      },
      "source": [
        "Prediction functions\n"
      ]
    },
    {
      "cell_type": "code",
      "metadata": {
        "id": "zXofLKmqGDJU",
        "colab_type": "code",
        "colab": {}
      },
      "source": [
        "def predict(PATH_TO_IMAGE):\n",
        "\n",
        "  \n",
        "\n",
        "  NUM_CLASSES = 6\n",
        "\n",
        "  label_map = label_map_util.load_labelmap(PATH_TO_LABELS)\n",
        "  categories = label_map_util.convert_label_map_to_categories(label_map, max_num_classes=NUM_CLASSES, use_display_name=True)\n",
        "  category_index = label_map_util.create_category_index(categories)\n",
        "\n",
        "  detection_graph = tf.Graph()\n",
        "  with detection_graph.as_default():\n",
        "      od_graph_def = tf.GraphDef()\n",
        "      with tf.gfile.GFile(PATH_TO_CKPT, 'rb') as fid:\n",
        "          serialized_graph = fid.read()\n",
        "          od_graph_def.ParseFromString(serialized_graph)\n",
        "          tf.import_graph_def(od_graph_def, name='')\n",
        "\n",
        "      sess = tf.Session(graph=detection_graph)\n",
        "\n",
        "  image_tensor = detection_graph.get_tensor_by_name('image_tensor:0')\n",
        "\n",
        "\n",
        "  detection_boxes = detection_graph.get_tensor_by_name('detection_boxes:0')\n",
        "\n",
        "\n",
        "  detection_scores = detection_graph.get_tensor_by_name('detection_scores:0')\n",
        "  detection_classes = detection_graph.get_tensor_by_name('detection_classes:0')\n",
        "\n",
        "  num_detections = detection_graph.get_tensor_by_name('num_detections:0')\n",
        "\n",
        "\n",
        "  image = cv2.imread(PATH_TO_IMAGE)\n",
        "  image_rgb = cv2.cvtColor(image, cv2.COLOR_BGR2RGB)\n",
        "  image_expanded = np.expand_dims(image_rgb, axis=0)\n",
        "\n",
        "  (boxes, scores, classes, num) = sess.run(\n",
        "      [detection_boxes, detection_scores, detection_classes, num_detections],\n",
        "      feed_dict={image_tensor: image_expanded})\n",
        "\n",
        "\n",
        "  vis_util.visualize_boxes_and_labels_on_image_array(\n",
        "      image,\n",
        "      np.squeeze(boxes),\n",
        "      np.squeeze(classes).astype(np.int32),\n",
        "      np.squeeze(scores),\n",
        "      category_index,\n",
        "      use_normalized_coordinates=True,\n",
        "      line_thickness=5,\n",
        "      min_score_thresh=0.75)\n",
        "\n",
        "  H,W,_ = image.shape\n",
        "  im = cv2.resize(image, (int(W),int(H)))\n",
        "  count = 0\n",
        "  for score in np.squeeze(scores) :\n",
        "    if score >= 0.75 : count += 1\n",
        "    else : None\n",
        "\n",
        "  cv2_imshow(im)\n",
        "  for i in range(0,count) :\n",
        "    class_name = category_index[np.squeeze(classes)[i].astype(np.int32)]['name']\n",
        "    if np.squeeze(scores)[i] >= 0.75 :\n",
        "      print(class_name,'\\t',np.squeeze(scores)[i])\n",
        "    else : None\n"
      ],
      "execution_count": 0,
      "outputs": []
    },
    {
      "cell_type": "code",
      "metadata": {
        "id": "ODJEBwdaGw2D",
        "colab_type": "code",
        "colab": {}
      },
      "source": [
        "from os import listdir\n",
        "from os.path import join\n",
        "\n",
        "def predict_dir(PATH_TO_DIR) :\n",
        "  filename = listdir(PATH_TO_DIR)\n",
        "  for i in range(0,len(filename)) :\n",
        "    if filename[i].endswith('.jpg') |  filename[i].endswith('.png')|filename[i].endswith('.jpeg') :\n",
        "      predict(join(PATH_TO_DIR,filename[i]))"
      ],
      "execution_count": 0,
      "outputs": []
    },
    {
      "cell_type": "markdown",
      "metadata": {
        "id": "6dm6gp5PR4Pr",
        "colab_type": "text"
      },
      "source": [
        "Predictions"
      ]
    },
    {
      "cell_type": "code",
      "metadata": {
        "id": "HIEMXLddG6Pm",
        "colab_type": "code",
        "colab": {}
      },
      "source": [
        "predict('/content/drive/My Drive/gei-project/TestImages/1000.jpeg')"
      ],
      "execution_count": 0,
      "outputs": []
    },
    {
      "cell_type": "code",
      "metadata": {
        "id": "6CaVTfilZ6XE",
        "colab_type": "code",
        "colab": {}
      },
      "source": [
        "predict_dir('/content/drive/My Drive/gei-project/TestImages/brueh')"
      ],
      "execution_count": 0,
      "outputs": []
    }
  ]
}
